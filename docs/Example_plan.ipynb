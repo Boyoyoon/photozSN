{
 "cells": [
  {
   "cell_type": "code",
   "execution_count": 3,
   "metadata": {
    "collapsed": true
   },
   "outputs": [],
   "source": [
    "import sncosmo"
   ]
  },
  {
   "cell_type": "code",
   "execution_count": 4,
   "metadata": {
    "collapsed": true
   },
   "outputs": [],
   "source": [
    "from analyzeSN import SNANASims"
   ]
  },
  {
   "cell_type": "code",
   "execution_count": 5,
   "metadata": {
    "collapsed": false
   },
   "outputs": [],
   "source": [
    "# read in simulation\n",
    "snana_eg = SNANASims.fromSNANAfileroot(snanafileroot='LSST_Ia',\n",
    "                                       location='/Users/rbiswas/data/LSST/SNANA_data/MINION_1016_10YR_DDF_v2/',\n",
    "                                       coerce_inds2int=False)"
   ]
  },
  {
   "cell_type": "code",
   "execution_count": 6,
   "metadata": {
    "collapsed": false
   },
   "outputs": [
    {
     "data": {
      "text/html": [
       "<div>\n",
       "<table border=\"1\" class=\"dataframe\">\n",
       "  <thead>\n",
       "    <tr style=\"text-align: right;\">\n",
       "      <th></th>\n",
       "      <th>IAUC</th>\n",
       "      <th>FAKE</th>\n",
       "      <th>RA</th>\n",
       "      <th>DECL</th>\n",
       "      <th>PIXSIZE</th>\n",
       "      <th>NXPIX</th>\n",
       "      <th>NYPIX</th>\n",
       "      <th>SNTYPE</th>\n",
       "      <th>NOBS</th>\n",
       "      <th>PTROBS_MIN</th>\n",
       "      <th>...</th>\n",
       "      <th>SIM_EXPOSURE_r</th>\n",
       "      <th>SIM_EXPOSURE_i</th>\n",
       "      <th>SIM_EXPOSURE_z</th>\n",
       "      <th>SIM_EXPOSURE_Y</th>\n",
       "      <th>SIM_GALFRAC_u</th>\n",
       "      <th>SIM_GALFRAC_g</th>\n",
       "      <th>SIM_GALFRAC_r</th>\n",
       "      <th>SIM_GALFRAC_i</th>\n",
       "      <th>SIM_GALFRAC_z</th>\n",
       "      <th>SIM_GALFRAC_Y</th>\n",
       "    </tr>\n",
       "    <tr>\n",
       "      <th>SNID</th>\n",
       "      <th></th>\n",
       "      <th></th>\n",
       "      <th></th>\n",
       "      <th></th>\n",
       "      <th></th>\n",
       "      <th></th>\n",
       "      <th></th>\n",
       "      <th></th>\n",
       "      <th></th>\n",
       "      <th></th>\n",
       "      <th></th>\n",
       "      <th></th>\n",
       "      <th></th>\n",
       "      <th></th>\n",
       "      <th></th>\n",
       "      <th></th>\n",
       "      <th></th>\n",
       "      <th></th>\n",
       "      <th></th>\n",
       "      <th></th>\n",
       "      <th></th>\n",
       "    </tr>\n",
       "  </thead>\n",
       "  <tbody>\n",
       "    <tr>\n",
       "      <th>13</th>\n",
       "      <td>NULL</td>\n",
       "      <td>2</td>\n",
       "      <td>0.000000</td>\n",
       "      <td>-45.524532</td>\n",
       "      <td>0.2</td>\n",
       "      <td>-9</td>\n",
       "      <td>-9</td>\n",
       "      <td>1</td>\n",
       "      <td>71</td>\n",
       "      <td>1</td>\n",
       "      <td>...</td>\n",
       "      <td>1.0</td>\n",
       "      <td>1.0</td>\n",
       "      <td>1.0</td>\n",
       "      <td>1.0</td>\n",
       "      <td>-9.0</td>\n",
       "      <td>-9.0</td>\n",
       "      <td>-9.0</td>\n",
       "      <td>-9.0</td>\n",
       "      <td>-9.0</td>\n",
       "      <td>-9.0</td>\n",
       "    </tr>\n",
       "    <tr>\n",
       "      <th>31</th>\n",
       "      <td>NULL</td>\n",
       "      <td>2</td>\n",
       "      <td>150.362350</td>\n",
       "      <td>2.836485</td>\n",
       "      <td>0.2</td>\n",
       "      <td>-9</td>\n",
       "      <td>-9</td>\n",
       "      <td>1</td>\n",
       "      <td>90</td>\n",
       "      <td>73</td>\n",
       "      <td>...</td>\n",
       "      <td>1.0</td>\n",
       "      <td>1.0</td>\n",
       "      <td>1.0</td>\n",
       "      <td>1.0</td>\n",
       "      <td>-9.0</td>\n",
       "      <td>-9.0</td>\n",
       "      <td>-9.0</td>\n",
       "      <td>-9.0</td>\n",
       "      <td>-9.0</td>\n",
       "      <td>-9.0</td>\n",
       "    </tr>\n",
       "    <tr>\n",
       "      <th>42</th>\n",
       "      <td>NULL</td>\n",
       "      <td>2</td>\n",
       "      <td>34.393394</td>\n",
       "      <td>-5.090329</td>\n",
       "      <td>0.2</td>\n",
       "      <td>-9</td>\n",
       "      <td>-9</td>\n",
       "      <td>1</td>\n",
       "      <td>80</td>\n",
       "      <td>164</td>\n",
       "      <td>...</td>\n",
       "      <td>1.0</td>\n",
       "      <td>1.0</td>\n",
       "      <td>1.0</td>\n",
       "      <td>1.0</td>\n",
       "      <td>-9.0</td>\n",
       "      <td>-9.0</td>\n",
       "      <td>-9.0</td>\n",
       "      <td>-9.0</td>\n",
       "      <td>-9.0</td>\n",
       "      <td>-9.0</td>\n",
       "    </tr>\n",
       "    <tr>\n",
       "      <th>61</th>\n",
       "      <td>NULL</td>\n",
       "      <td>2</td>\n",
       "      <td>349.386444</td>\n",
       "      <td>-63.321003</td>\n",
       "      <td>0.2</td>\n",
       "      <td>-9</td>\n",
       "      <td>-9</td>\n",
       "      <td>1</td>\n",
       "      <td>68</td>\n",
       "      <td>245</td>\n",
       "      <td>...</td>\n",
       "      <td>1.0</td>\n",
       "      <td>1.0</td>\n",
       "      <td>1.0</td>\n",
       "      <td>1.0</td>\n",
       "      <td>-9.0</td>\n",
       "      <td>-9.0</td>\n",
       "      <td>-9.0</td>\n",
       "      <td>-9.0</td>\n",
       "      <td>-9.0</td>\n",
       "      <td>-9.0</td>\n",
       "    </tr>\n",
       "    <tr>\n",
       "      <th>89</th>\n",
       "      <td>NULL</td>\n",
       "      <td>2</td>\n",
       "      <td>150.362350</td>\n",
       "      <td>2.836485</td>\n",
       "      <td>0.2</td>\n",
       "      <td>-9</td>\n",
       "      <td>-9</td>\n",
       "      <td>1</td>\n",
       "      <td>76</td>\n",
       "      <td>314</td>\n",
       "      <td>...</td>\n",
       "      <td>1.0</td>\n",
       "      <td>1.0</td>\n",
       "      <td>1.0</td>\n",
       "      <td>1.0</td>\n",
       "      <td>-9.0</td>\n",
       "      <td>-9.0</td>\n",
       "      <td>-9.0</td>\n",
       "      <td>-9.0</td>\n",
       "      <td>-9.0</td>\n",
       "      <td>-9.0</td>\n",
       "    </tr>\n",
       "  </tbody>\n",
       "</table>\n",
       "<p>5 rows × 78 columns</p>\n",
       "</div>"
      ],
      "text/plain": [
       "          IAUC  FAKE          RA       DECL  PIXSIZE  NXPIX  NYPIX  SNTYPE  \\\n",
       "SNID                                                                         \n",
       "13    NULL         2    0.000000 -45.524532      0.2     -9     -9       1   \n",
       "31    NULL         2  150.362350   2.836485      0.2     -9     -9       1   \n",
       "42    NULL         2   34.393394  -5.090329      0.2     -9     -9       1   \n",
       "61    NULL         2  349.386444 -63.321003      0.2     -9     -9       1   \n",
       "89    NULL         2  150.362350   2.836485      0.2     -9     -9       1   \n",
       "\n",
       "      NOBS  PTROBS_MIN      ...        SIM_EXPOSURE_r  SIM_EXPOSURE_i  \\\n",
       "SNID                        ...                                         \n",
       "13      71           1      ...                   1.0             1.0   \n",
       "31      90          73      ...                   1.0             1.0   \n",
       "42      80         164      ...                   1.0             1.0   \n",
       "61      68         245      ...                   1.0             1.0   \n",
       "89      76         314      ...                   1.0             1.0   \n",
       "\n",
       "      SIM_EXPOSURE_z  SIM_EXPOSURE_Y  SIM_GALFRAC_u  SIM_GALFRAC_g  \\\n",
       "SNID                                                                 \n",
       "13               1.0             1.0           -9.0           -9.0   \n",
       "31               1.0             1.0           -9.0           -9.0   \n",
       "42               1.0             1.0           -9.0           -9.0   \n",
       "61               1.0             1.0           -9.0           -9.0   \n",
       "89               1.0             1.0           -9.0           -9.0   \n",
       "\n",
       "      SIM_GALFRAC_r  SIM_GALFRAC_i  SIM_GALFRAC_z  SIM_GALFRAC_Y  \n",
       "SNID                                                              \n",
       "13             -9.0           -9.0           -9.0           -9.0  \n",
       "31             -9.0           -9.0           -9.0           -9.0  \n",
       "42             -9.0           -9.0           -9.0           -9.0  \n",
       "61             -9.0           -9.0           -9.0           -9.0  \n",
       "89             -9.0           -9.0           -9.0           -9.0  \n",
       "\n",
       "[5 rows x 78 columns]"
      ]
     },
     "execution_count": 6,
     "metadata": {},
     "output_type": "execute_result"
    }
   ],
   "source": [
    "snana_eg.headData.head()"
   ]
  },
  {
   "cell_type": "code",
   "execution_count": 7,
   "metadata": {
    "collapsed": true
   },
   "outputs": [],
   "source": [
    "snids = snana_eg.headData.index.values"
   ]
  },
  {
   "cell_type": "code",
   "execution_count": 8,
   "metadata": {
    "collapsed": false
   },
   "outputs": [],
   "source": [
    "lc = snana_eg.get_SNANA_photometry(snid='31')"
   ]
  },
  {
   "cell_type": "code",
   "execution_count": 9,
   "metadata": {
    "collapsed": false
   },
   "outputs": [
    {
     "data": {
      "text/plain": [
       "4.1012692"
      ]
     },
     "execution_count": 9,
     "metadata": {},
     "output_type": "execute_result"
    }
   ],
   "source": [
    "max(lc.lightCurve['flux']/lc.lightCurve['fluxerr'] )"
   ]
  },
  {
   "cell_type": "code",
   "execution_count": 10,
   "metadata": {
    "collapsed": true
   },
   "outputs": [],
   "source": [
    "from analyzeSN import ResChar"
   ]
  },
  {
   "cell_type": "code",
   "execution_count": 11,
   "metadata": {
    "collapsed": true
   },
   "outputs": [],
   "source": [
    "def inferParams(snanaSims, model, infer_method, i, minsnr=3.):\n",
    "    \"\"\"\n",
    "    infer the parameters for the ith supernova in the simulation\n",
    "    \"\"\"\n",
    "    snid = snanaSims.headData.index.values[i]\n",
    "    z = snanaSims.headData.ix[snid, 'REDSHIFT_FINAL']\n",
    "    lcinstance = snanaSims.get_SNANA_photometry(snid=snid)\n",
    "    model.set(z=z)\n",
    "    print(z)\n",
    "    resfit = infer_method(lcinstance.snCosmoLC(), model, vparam_names=['t0', 'x0', 'x1', 'c'],\n",
    "                          modelcov=True, minsnr=minsnr)\n",
    "    reschar = ResChar.fromSNCosmoRes(resfit)\n",
    "    return reschar"
   ]
  },
  {
   "cell_type": "code",
   "execution_count": 12,
   "metadata": {
    "collapsed": false
   },
   "outputs": [],
   "source": [
    "dust = sncosmo.CCM89Dust()\n",
    "model = sncosmo.Model(source='salt2-extended', effects=[dust, dust],\n",
    "                     effect_names=['host', 'mw'], effect_frames=['rest', 'obs'])"
   ]
  },
  {
   "cell_type": "code",
   "execution_count": 13,
   "metadata": {
    "collapsed": false
   },
   "outputs": [
    {
     "name": "stdout",
     "output_type": "stream",
     "text": [
      "1.16624\n"
     ]
    }
   ],
   "source": [
    "#example\n",
    "r = inferParams(snana_eg, model, sncosmo.fit_lc, 0)"
   ]
  },
  {
   "cell_type": "code",
   "execution_count": 14,
   "metadata": {
    "collapsed": false
   },
   "outputs": [
    {
     "data": {
      "text/plain": [
       "z          1.166243e+00\n",
       "t0         6.096514e+04\n",
       "x0         4.229721e-07\n",
       "x1        -4.430033e+00\n",
       "c         -3.031123e-01\n",
       "hostebv    0.000000e+00\n",
       "hostr_v    3.100000e+00\n",
       "mwebv      0.000000e+00\n",
       "mwr_v      3.100000e+00\n",
       "dtype: float64"
      ]
     },
     "execution_count": 14,
     "metadata": {},
     "output_type": "execute_result"
    }
   ],
   "source": [
    "r.parameters"
   ]
  },
  {
   "cell_type": "code",
   "execution_count": 15,
   "metadata": {
    "collapsed": false
   },
   "outputs": [
    {
     "data": {
      "text/html": [
       "<div>\n",
       "<table border=\"1\" class=\"dataframe\">\n",
       "  <thead>\n",
       "    <tr style=\"text-align: right;\">\n",
       "      <th></th>\n",
       "      <th>t0</th>\n",
       "      <th>x0</th>\n",
       "      <th>x1</th>\n",
       "      <th>c</th>\n",
       "    </tr>\n",
       "  </thead>\n",
       "  <tbody>\n",
       "    <tr>\n",
       "      <th>t0</th>\n",
       "      <td>6.221200e-02</td>\n",
       "      <td>-9.897254e-10</td>\n",
       "      <td>1.119111e-02</td>\n",
       "      <td>-2.054025e-03</td>\n",
       "    </tr>\n",
       "    <tr>\n",
       "      <th>x0</th>\n",
       "      <td>-9.897254e-10</td>\n",
       "      <td>7.092694e-15</td>\n",
       "      <td>-7.058787e-11</td>\n",
       "      <td>1.042686e-08</td>\n",
       "    </tr>\n",
       "    <tr>\n",
       "      <th>x1</th>\n",
       "      <td>1.119111e-02</td>\n",
       "      <td>-7.058787e-11</td>\n",
       "      <td>9.346116e-03</td>\n",
       "      <td>3.397151e-04</td>\n",
       "    </tr>\n",
       "    <tr>\n",
       "      <th>c</th>\n",
       "      <td>-2.054025e-03</td>\n",
       "      <td>1.042686e-08</td>\n",
       "      <td>3.397151e-04</td>\n",
       "      <td>3.238695e-02</td>\n",
       "    </tr>\n",
       "  </tbody>\n",
       "</table>\n",
       "</div>"
      ],
      "text/plain": [
       "              t0            x0            x1             c\n",
       "t0  6.221200e-02 -9.897254e-10  1.119111e-02 -2.054025e-03\n",
       "x0 -9.897254e-10  7.092694e-15 -7.058787e-11  1.042686e-08\n",
       "x1  1.119111e-02 -7.058787e-11  9.346116e-03  3.397151e-04\n",
       "c  -2.054025e-03  1.042686e-08  3.397151e-04  3.238695e-02"
      ]
     },
     "execution_count": 15,
     "metadata": {},
     "output_type": "execute_result"
    }
   ],
   "source": [
    "r.covariance"
   ]
  },
  {
   "cell_type": "code",
   "execution_count": null,
   "metadata": {
    "collapsed": false
   },
   "outputs": [
    {
     "name": "stdout",
     "output_type": "stream",
     "text": [
      "0.699517\n"
     ]
    }
   ],
   "source": [
    "r = inferParams(snana_eg, model, sncosmo.fit_lc, 1)"
   ]
  },
  {
   "cell_type": "code",
   "execution_count": 1,
   "metadata": {
    "collapsed": false
   },
   "outputs": [
    {
     "ename": "NameError",
     "evalue": "name 'r' is not defined",
     "output_type": "error",
     "traceback": [
      "\u001b[0;31m---------------------------------------------------------------------------\u001b[0m",
      "\u001b[0;31mNameError\u001b[0m                                 Traceback (most recent call last)",
      "\u001b[0;32m<ipython-input-1-a8f64bc37db3>\u001b[0m in \u001b[0;36m<module>\u001b[0;34m()\u001b[0m\n\u001b[0;32m----> 1\u001b[0;31m \u001b[0mr\u001b[0m\u001b[0;34m.\u001b[0m\u001b[0mparameters\u001b[0m\u001b[0;34m\u001b[0m\u001b[0m\n\u001b[0m",
      "\u001b[0;31mNameError\u001b[0m: name 'r' is not defined"
     ]
    }
   ],
   "source": [
    "r.parameters"
   ]
  },
  {
   "cell_type": "code",
   "execution_count": null,
   "metadata": {
    "collapsed": false
   },
   "outputs": [],
   "source": [
    "r.covariance"
   ]
  },
  {
   "cell_type": "code",
   "execution_count": null,
   "metadata": {
    "collapsed": false
   },
   "outputs": [],
   "source": [
    "r = inferParams(snana_eg, model, sncosmo.fit_lc, 0, minsnr=5.)"
   ]
  },
  {
   "cell_type": "markdown",
   "metadata": {},
   "source": [
    "PSEUDO CODE (SERIAL)\n",
    "\n",
    "- read in simulation\n",
    "- create model\n",
    "- iterate over number of SN:\n",
    "    - try :\n",
    "        - call inferParams : r = inferParams(...)\n",
    "        - write r.params, r.covariance (after packing to 10 or 15 independent numbers), r.samples (if exists, desired)\n",
    "    - except :\n",
    "        failures"
   ]
  },
  {
   "cell_type": "markdown",
   "metadata": {},
   "source": [
    "PSEUDO CODE (Parallel ?)\n",
    "\n",
    "- read in simulation and create chunks\n",
    "\n",
    "- Distribute chunks to nodes\n",
    "- On each node \n",
    "    - iterate over number of SN (more SN than nodes :) ):\n",
    "    - create model\n",
    "        - try :\n",
    "            - call inferParams : r = inferParams(...)\n",
    "            - write r.params, r.covariance (after packing to 10 or 15 independent numbers), r.samples (if exists, desired)\n",
    "        - except :\n",
    "            failures"
   ]
  },
  {
   "cell_type": "code",
   "execution_count": null,
   "metadata": {
    "collapsed": true
   },
   "outputs": [],
   "source": [
    "def inferParams(snanaSims, model, infer_method, i, minsnr=3.):\n",
    "    \"\"\"\n",
    "    infer the parameters for the ith supernova in the simulation\n",
    "    \"\"\"\n",
    "    snid = snanaSims.headData.index.values[i]\n",
    "    z = snanaSims.headData.ix[snid, 'REDSHIFT_FINAL']\n",
    "    lcinstance = snanaSims.get_SNANA_photometry(snid=snid)\n",
    "    model.set(z=z)\n",
    "    print(z)\n",
    "    resfit = infer_method(lcinstance.snCosmoLC(), model, vparam_names=['t0', 'x0', 'x1', 'c'],\n",
    "                          modelcov=True, minsnr=minsnr)\n",
    "    reschar = ResChar.fromSNCosmoRes(resfit)\n",
    "    return reschar\n",
    "\n",
    "snana_eg = SNANASims.fromSNANAfileroot(snanafileroot='LSST_Ia',\n",
    "                                       location='/Users/rbiswas/data/LSST/SNANA_data/MINION_1016_10YR_DDF_v2/',\n",
    "                                       coerce_inds2int=False)"
   ]
  }
 ],
 "metadata": {
  "anaconda-cloud": {},
  "kernelspec": {
   "display_name": "Python [default]",
   "language": "python",
   "name": "python2"
  },
  "language_info": {
   "codemirror_mode": {
    "name": "ipython",
    "version": 2
   },
   "file_extension": ".py",
   "mimetype": "text/x-python",
   "name": "python",
   "nbconvert_exporter": "python",
   "pygments_lexer": "ipython2",
   "version": "2.7.12"
  }
 },
 "nbformat": 4,
 "nbformat_minor": 1
}
